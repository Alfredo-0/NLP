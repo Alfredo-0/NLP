{
 "cells": [
  {
   "cell_type": "code",
   "execution_count": 92,
   "id": "e8b3871c-f47f-4cba-9e08-68f492ecc1a3",
   "metadata": {},
   "outputs": [
    {
     "name": "stdout",
     "output_type": "stream",
     "text": [
      "59\n"
     ]
    }
   ],
   "source": [
    "def format (input, output):\n",
    "    with open(input, 'r') as file:\n",
    "        content = file.read()\n",
    "    content = content.replace(\"                   \", \"\")\n",
    "    content = content.replace(\"                 \", \"\")\n",
    "    content = content.replace(\"              \", \"\")       \n",
    "    content = content.replace(\"-\\n\", \"\")\n",
    "    content = content.replace(\".\\n\", \".\\n\\n\")\n",
    "    content = content.replace(\". \\n\", \".\\n\\n\")\n",
    "    content = content.replace(\".  \\n\", \".\\n\\n\")\n",
    "    content = content.replace(\".   \\n\", \".\\n\\n\")\n",
    "    content = content.replace(\".    \\n\", \".\\n\\n\")\n",
    "    paragraphs = content.split(\"\\n\\n\")\n",
    "    \n",
    "    text = \"\"\n",
    "    print(len(paragraphs))\n",
    "    #print(paragraphs[7].replace(\"\\n\", \" \"))\n",
    "    with open(output, 'w') as file:\n",
    "        for paragraph in paragraphs:\n",
    "            paragraph = paragraph.replace(\"\\n\", \" \")\n",
    "            text = text + \"\\n\" + paragraph\n",
    "        file.write(text)\n",
    "\n",
    "input = \"Economía social y economia popular_PDFToTXT.txt\"\n",
    "output = \"txt/Economía social y economia popular.txt\"\n",
    "\n",
    "format(input, output)"
   ]
  },
  {
   "cell_type": "code",
   "execution_count": 93,
   "id": "27f69cfc-64bd-4489-bbb5-d7bfd5c5f6a2",
   "metadata": {},
   "outputs": [],
   "source": [
    "def espacios (input, output):\n",
    "    with open(input, 'r') as file:\n",
    "        content = file.read()\n",
    "    content = content.replace(\"  \", \" \")\n",
    "    content = content.replace(\"   \", \" \")\n",
    "    content = content.replace(\"    \", \" \")\n",
    "    content = content.replace(\"     \", \" \")\n",
    "    content = content.replace(\"      \", \" \")\n",
    "    content = content.replace(\"       \", \" \")\n",
    "    content = content.replace(\"        \", \" \")\n",
    "    content = content.replace(\"         \", \" \")\n",
    "    content = content.replace(\"          \", \" \")\n",
    "    content = content.replace(\"           \", \" \")\n",
    "    content = content.replace(\"            \", \" \")\n",
    "    content = content.replace(\"-   \", \"\")\n",
    "\n",
    "\n",
    "    #print(paragraphs[7].replace(\"\\n\", \" \"))\n",
    "    with open(output, 'w') as file:\n",
    "        file.write(content)\n",
    "\n",
    "input = \"txt/Economía social y economia popular.txt\"\n",
    "output = \"txt/Economía social y economia popular.txt\"\n",
    "espacios(input, output)"
   ]
  },
  {
   "cell_type": "code",
   "execution_count": 94,
   "id": "c254c90b-1224-4fd9-964e-0687f889df10",
   "metadata": {},
   "outputs": [
    {
     "name": "stdout",
     "output_type": "stream",
     "text": [
      "Merged output file created successfully!\n"
     ]
    }
   ],
   "source": [
    "import os\n",
    "\n",
    "def merge_text_files(folder_path, output_file):\n",
    "    with open(output_file, 'w') as output:\n",
    "        # Iterate over each file in the folder\n",
    "        for filename in os.listdir(folder_path):\n",
    "            if filename.endswith('.txt'):\n",
    "                file_path = os.path.join(folder_path, filename)\n",
    "                with open(file_path, 'r') as file:\n",
    "                    # Read the content of the file and write it to the output file\n",
    "                    output.write(file.read().strip() + '\\n\\n')\n",
    "\n",
    "# Example usage:\n",
    "folder_path = 'txt/'\n",
    "output_file = 'documentos.txt'\n",
    "merge_text_files(folder_path, output_file)\n",
    "print(\"Merged output file created successfully!\")\n"
   ]
  }
 ],
 "metadata": {
  "kernelspec": {
   "display_name": "Python 3 (ipykernel)",
   "language": "python",
   "name": "python3"
  },
  "language_info": {
   "codemirror_mode": {
    "name": "ipython",
    "version": 3
   },
   "file_extension": ".py",
   "mimetype": "text/x-python",
   "name": "python",
   "nbconvert_exporter": "python",
   "pygments_lexer": "ipython3",
   "version": "3.10.12"
  }
 },
 "nbformat": 4,
 "nbformat_minor": 5
}
